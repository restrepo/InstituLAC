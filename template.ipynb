{
 "cells": [
  {
   "cell_type": "markdown",
   "metadata": {},
   "source": [
    "# Creates an Excel File with serveral worksheets\n",
    "## And add Pandas DataFrames in specific positions of them"
   ]
  },
  {
   "cell_type": "code",
   "execution_count": 24,
   "metadata": {},
   "outputs": [],
   "source": [
    "import pandas as pd"
   ]
  },
  {
   "cell_type": "code",
   "execution_count": 25,
   "metadata": {},
   "outputs": [],
   "source": [
    "writer = pd.ExcelWriter('sample.xlsx', engine='xlsxwriter')"
   ]
  },
  {
   "cell_type": "markdown",
   "metadata": {},
   "source": [
    "Capture the `xlsxwriter` object."
   ]
  },
  {
   "cell_type": "code",
   "execution_count": 26,
   "metadata": {},
   "outputs": [],
   "source": [
    "workbook=writer.book"
   ]
  },
  {
   "cell_type": "markdown",
   "metadata": {},
   "source": [
    "From here you can follow the official documentation at: https://xlsxwriter.readthedocs.io/\n",
    "\n",
    "Add the first work-sheet"
   ]
  },
  {
   "cell_type": "code",
   "execution_count": 27,
   "metadata": {},
   "outputs": [],
   "source": [
    "worksheet=workbook.add_worksheet(\"1.Presentación\")"
   ]
  },
  {
   "cell_type": "markdown",
   "metadata": {},
   "source": [
    "Set the widths of the first two columns to reserve space fro the image"
   ]
  },
  {
   "cell_type": "code",
   "execution_count": 28,
   "metadata": {},
   "outputs": [
    {
     "data": {
      "text/plain": [
       "0"
      ]
     },
     "execution_count": 28,
     "metadata": {},
     "output_type": "execute_result"
    }
   ],
   "source": [
    "worksheet.set_column('A:A', 15)\n",
    "worksheet.set_column('B:B', 15)"
   ]
  },
  {
   "cell_type": "markdown",
   "metadata": {},
   "source": [
    "Insert image: ![img](./img/udea.jpeg)"
   ]
  },
  {
   "cell_type": "code",
   "execution_count": 29,
   "metadata": {},
   "outputs": [],
   "source": [
    "worksheet.insert_image('A1', 'img/udea.jpeg')"
   ]
  },
  {
   "cell_type": "markdown",
   "metadata": {},
   "source": [
    "Format the specific text in specific cell"
   ]
  },
  {
   "cell_type": "code",
   "execution_count": 30,
   "metadata": {},
   "outputs": [],
   "source": [
    "title=workbook.add_format({'font_size':20})"
   ]
  },
  {
   "cell_type": "code",
   "execution_count": 31,
   "metadata": {},
   "outputs": [
    {
     "data": {
      "text/plain": [
       "0"
      ]
     },
     "execution_count": 31,
     "metadata": {},
     "output_type": "execute_result"
    }
   ],
   "source": [
    "worksheet.set_column('C:C', 90)"
   ]
  },
  {
   "cell_type": "code",
   "execution_count": 32,
   "metadata": {},
   "outputs": [
    {
     "data": {
      "text/plain": [
       "0"
      ]
     },
     "execution_count": 32,
     "metadata": {},
     "output_type": "execute_result"
    }
   ],
   "source": [
    "worksheet.write('C1', 'UNIVERSIDAD DE ANTIOQUIA',title)"
   ]
  },
  {
   "cell_type": "markdown",
   "metadata": {},
   "source": [
    "Write the Excel file to disk"
   ]
  },
  {
   "cell_type": "code",
   "execution_count": 33,
   "metadata": {},
   "outputs": [],
   "source": [
    "workbook.close()"
   ]
  },
  {
   "cell_type": "markdown",
   "metadata": {},
   "source": [
    "Check the output `sample.xlsx`"
   ]
  },
  {
   "cell_type": "markdown",
   "metadata": {},
   "source": [
    "## Full code"
   ]
  },
  {
   "cell_type": "code",
   "execution_count": 34,
   "metadata": {},
   "outputs": [
    {
     "name": "stdout",
     "output_type": "stream",
     "text": [
      "Writing template.py\n"
     ]
    }
   ],
   "source": [
    "%%writefile template.py\n",
    "import pandas as pd\n",
    "\n",
    "#Initialize the Output Excel File\n",
    "writer = pd.ExcelWriter('template.xlsx', engine='xlsxwriter')\n",
    "\n",
    "\n",
    "#Global variables\n",
    "abstract_text='VERIFICACIÓN DE INFORMACIÓN PARA OTORGAR AVAL A LOS GRUPOS DE INVESTIGACIÓN  E INVESTIGADORES PARA SU PARTICIPACIÓN EN LA CONVOCATORIA 894 DE 2021 DE MINCIENCIAS'\n",
    "instructions='''Los grupos de investigación e investigadores de la Universidad de Antioquia que deseen participar en la Convocatoria Nacional para el reconocimiento y medición de grupos de investigación, desarrollo tecnológico o de innovación y para el reconocimiento de investigadores del Sistema Nacional de Ciencia, Tecnología e Innovación - SNCTI, 894 de 2021, deben presentar la información actualizada en las plataformas CvLAC y GrupLAC validada por el Centro de Investigación en el presente formato, y respaldada en el repositorio digital de evidencias dispuesto para este fin, para la obtención del aval institucional por parte de la Vicerrectoría de Investigación. \n",
    "\n",
    "La información a validar corresponde a los años 2019-2020 y aquella que entra en la ventana de observación y debe ser modificada según el Modelo de medición de grupos. La validación comprende:\n",
    "\n",
    "1. Verificación de la vinculación de los integrantes a la Universidad de Antioquia y al grupo de investigación.  Diligenciar los campos solicitados. \n",
    "\n",
    "2. Verificación de la producción de GNC, DTeI, ASC y FRH, en los campos habilitados en cada hoja de este formato. Las evidencias requeridas para los productos deben ser anexadas al repositorio digital asignado al grupo y se deben enlazar a cada producto.  \n",
    "\n",
    "Este documento debe ser diligenciado en línea.\n",
    "\n",
    "De antemano, la Vicerrectoría de Investigación agradece su participación en este ejercicio, que resulta de vital importancia para llevar a buen término la Convocatoria de Reconocimiento y Medición de Grupos de Investigación\n",
    "'''\n",
    "#Final part of the first sheet\n",
    "datos=pd.read_excel('https://docs.google.com/spreadsheets/d/e/2PACX-1vTp7cVkcQYoLvuPgs04O6_DeC_klRtPVhzLJ1VLxCek6MchPpoAmUCr-5wuJ3Lc9C9JwhxmxdmYy7E5/pub?output=xlsx')\n",
    "#Example of Table → Like the one generated by the Scrapping\n",
    "table=pd.read_excel('https://docs.google.com/spreadsheets/d/e/2PACX-1vTp7cVkcQYoLvuPgs04O6_DeC_klRtPVhzLJ1VLxCek6MchPpoAmUCr-5wuJ3Lc9C9JwhxmxdmYy7E5/pub?output=xlsx',\n",
    "                     sheet_name='4.ART y N').fillna('')\n",
    "\n",
    "#Capture xlsxwriter object \n",
    "# IMPORTANT → workbook is the same object used in the official document at https://xlsxwriter.readthedocs.io\n",
    "workbook=writer.book\n",
    "#***************\n",
    "#Styles as explained in https://xlsxwriter.readthedocs.io\n",
    "general=workbook.add_format({'text_wrap':True})\n",
    "title=workbook.add_format({'font_size':28,'center_across':True})\n",
    "subtitle=workbook.add_format({'font_size':24,'center_across':True})\n",
    "abstract=workbook.add_format({'font_size':20,'center_across':True,'text_wrap':True})\n",
    "normal=workbook.add_format({'font_size':12,'text_wrap':True})\n",
    "merge_format = workbook.add_format({\n",
    "    'bold': 1,\n",
    "    'border':1,\n",
    "    'text_wrap': True,    \n",
    "    'align': 'center',\n",
    "    'valign': 'vcenter',\n",
    "    'font_color': 'blue'})\n",
    "fmt_header = workbook.add_format({\n",
    "    'bold': True,\n",
    "    'align': 'center',    \n",
    "    'text_wrap': True,\n",
    "    'valign': 'top',\n",
    "    'fg_color': '#33A584',\n",
    "    'font_color': '#FFFFFF',\n",
    "    'border': 1})\n",
    "#***************\n",
    "#Creates the first work-sheet\n",
    "#IMPORTANT → worksheet is the same object  used in the official document at https://xlsxwriter.readthedocs.io\n",
    "worksheet=workbook.add_worksheet(\"1.Presentación\")\n",
    "#Prepare image insertion: See → https://xlsxwriter.readthedocs.io/example_images.html\n",
    "worksheet.set_column('A:A', 15)\n",
    "worksheet.set_column('B:B', 15)\n",
    "worksheet.insert_image('A1', 'img/udea.jpeg')\n",
    "#Prepare text insertion: See  → https://xlsxwriter.readthedocs.io/example_images.html\n",
    "worksheet.set_column('C:C', 140,general)\n",
    "worksheet.set_row_pixels(0, 60)\n",
    "#Texts\n",
    "worksheet.write('C1', 'UNIVERSIDAD DE ANTIOQUIA',title)\n",
    "worksheet.set_row_pixels(2, 60)\n",
    "worksheet.write('C3', 'VICERRECTORÍA DE INVESTIGACIÓN',subtitle)\n",
    "worksheet.set_row_pixels(5, 100)\n",
    "worksheet.write('C6', abstract_text,abstract)\n",
    "worksheet.set_row_pixels(8, 40)\n",
    "worksheet.write('C9','PRESENTACIÓN DEL EJERCICIO',\n",
    "                workbook.add_format({'font_size':18,'center_across':True}) )\n",
    "worksheet.set_row_pixels(10, 320)\n",
    "worksheet.write('C11',instructions,normal )\n",
    "#*** ADD PANDAS DATAFRAME IN SPECIFIC POSITION ****\n",
    "#Add a data Frame in some specific position. See → https://stackoverflow.com/a/43510881/2268280\n",
    "#                                       See also → https://xlsxwriter.readthedocs.io/working_with_pandas.html\n",
    "writer.sheets[\"1.Presentación\"]=worksheet\n",
    "datos.to_excel(writer,sheet_name=\"1.Presentación\",startrow=12,startcol=2,index=False)\n",
    "#**************************************************\n",
    "#Fix columns heights for long text\n",
    "worksheet.set_row_pixels(17, 40)\n",
    "worksheet.set_row_pixels(18, 40)\n",
    "worksheet.set_row_pixels(19, 40)\n",
    "worksheet.set_row_pixels(20, 40)\n",
    "worksheet.set_row_pixels(22, 40)\n",
    "\n",
    "#Creates second work-sheet\n",
    "# \"4.ART y N\" → work-sheet\n",
    "worksheet2=workbook.add_worksheet(\"4.ART y N\")\n",
    "# See Merger Columns → https://xlsxwriter.readthedocs.io/example_merge1.html\n",
    "worksheet2.merge_range('C1:I1', 'Información suministrada por la Vicerrectoría de Investigación', merge_format)\n",
    "worksheet2.merge_range('J1:M1', 'Validación del Centro, Instituto o Corporación', merge_format)\n",
    "#Add a data Frame in some specific position. See → https://stackoverflow.com/a/43510881/2268280\n",
    "#                                       See also → https://xlsxwriter.readthedocs.io/working_with_pandas.html\n",
    "writer.sheets[\"4.ART y N\"]=worksheet2\n",
    "table.to_excel(writer,sheet_name=\"4.ART y N\",startrow=1,startcol=2,index=False)\n",
    "worksheet2.set_row_pixels(1, 60)\n",
    "#Overwrite the header row of the table with the proper format\n",
    "#...See → https://link.medium.com/fniEH6hMxfb\n",
    "for col , value in enumerate(table.columns.values):\n",
    "    worksheet2.write(1, col+2, value, fmt_header)\n",
    "#Increase the width of a specific column and add some formatting    \n",
    "worksheet2.set_column('C:C',30,general)\n",
    "# Add extra headers\n",
    "worksheet2.write(1, 0, 'VoBo de VRI', merge_format)\n",
    "#New columns\n",
    "extra_url='Si no tiene URL o DOI agregue una evidencia en el repositorio digital y genere un hipervínculo en este campo'\n",
    "cols=['DOI',extra_url,'¿El producto cumple con los requisitos para ser avalado?']\n",
    "for col , value in enumerate(cols):\n",
    "    worksheet2.write(1, col+2+table.columns.size, value, fmt_header)\n",
    "worksheet2.set_column('L:L',20)\n",
    "worksheet2.set_column('M:M',20)\n",
    "#Creates a set of cells with a drop-down menu Sí/No. See → https://xlsxwriter.readthedocs.io/working_with_data_validation.html\n",
    "worksheet2.data_validation('M3:M{}'.format(table.shape[0]+2), {'validate': 'list',\n",
    "                                  'source': ['Sí', 'No']})\n",
    "\n",
    "workbook.close()"
   ]
  },
  {
   "cell_type": "markdown",
   "metadata": {},
   "source": [
    "USAGE:\n",
    "```bash\n",
    "python3 template.py\n",
    "```\n",
    "and check the generated `template.xlsx` file"
   ]
  }
 ],
 "metadata": {
  "kernelspec": {
   "display_name": "Python 3",
   "language": "python",
   "name": "python3"
  },
  "language_info": {
   "codemirror_mode": {
    "name": "ipython",
    "version": 3
   },
   "file_extension": ".py",
   "mimetype": "text/x-python",
   "name": "python",
   "nbconvert_exporter": "python",
   "pygments_lexer": "ipython3",
   "version": "3.7.3"
  }
 },
 "nbformat": 4,
 "nbformat_minor": 4
}
